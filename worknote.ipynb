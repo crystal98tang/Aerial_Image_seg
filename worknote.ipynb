{
 "cells": [
  {
   "cell_type": "code",
   "execution_count": null,
   "metadata": {},
   "outputs": [],
   "source": [
    "2019/11/8"
   ]
  },
  {
   "cell_type": "code",
   "execution_count": null,
   "metadata": {},
   "outputs": [],
   "source": [
    "#1.preprocess\n",
    "#(1)直方图拉伸问题\n",
    "#2.imageIO\n",
    "#使用新的imageIO.imread()方法\n",
    "#3.plt\n",
    "#(1)没有sciview，用plt.draw()显示，plt.pause(interval)延时"
   ]
  },
  {
   "cell_type": "code",
   "execution_count": null,
   "metadata": {},
   "outputs": [],
   "source": [
    "2019/11/9"
   ]
  },
  {
   "cell_type": "code",
   "execution_count": null,
   "metadata": {},
   "outputs": [],
   "source": [
    "#1.重构项目结构\n",
    "#(1)SDFCN model加工\n",
    "#(2)unet model适配\n",
    "#(3)dataset 生成器\n",
    "#2.新学的概念\n",
    "#(1)可见光谱段中的RGB通道\n",
    "#(2)生成器 yield\n",
    "#(3)IoU 交集/并集\n",
    "#3.搞清了数据集来源\n",
    "#Inria是法国国家信息与自动化研究所简称，\n",
    "#该机构拥有大量数据库，其中此数据库是一个城市建筑物\n",
    "#检测的数据库，标记只有building, not building两种，\n",
    "#且是像素级别，用于语义分割。\n",
    "#训练集和数据集采集自不同的城市遥感图像。"
   ]
  },
  {
   "cell_type": "code",
   "execution_count": null,
   "metadata": {},
   "outputs": [],
   "source": [
    "2019/11/16"
   ]
  },
  {
   "cell_type": "code",
   "execution_count": null,
   "metadata": {},
   "outputs": [],
   "source": [
    "# 可视化工具 TensorBoard histogram_freq=1,write_grads=1,write_images=1"
   ]
  },
  {
   "cell_type": "code",
   "execution_count": null,
   "metadata": {},
   "outputs": [],
   "source": [
    "2019/11/24"
   ]
  },
  {
   "cell_type": "code",
   "execution_count": null,
   "metadata": {},
   "outputs": [],
   "source": [
    "# 1.完善了服务器与本机的VCS\n",
    "# 2.模型搭建：FCN32s、DenseFCN\n",
    "# 3.解决了保存HDF5文件问题\n",
    "# 4.keras_contrib包中的CRF只适用顺序，不适用空间应使用pydensecrf"
   ]
  }
 ],
 "metadata": {
  "kernelspec": {
   "display_name": "Python 2",
   "language": "python",
   "name": "python2"
  },
  "language_info": {
   "codemirror_mode": {
    "name": "ipython",
    "version": 2.0
   },
   "file_extension": ".py",
   "mimetype": "text/x-python",
   "name": "python",
   "nbconvert_exporter": "python",
   "pygments_lexer": "ipython2",
   "version": "2.7.6"
  }
 },
 "nbformat": 4,
 "nbformat_minor": 0
}